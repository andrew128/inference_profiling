{
  "nbformat": 4,
  "nbformat_minor": 0,
  "metadata": {
    "colab": {
      "provenance": [],
      "gpuType": "T4",
      "authorship_tag": "ABX9TyNVF+ptgxbY0b6TEIC6RFtB",
      "include_colab_link": true
    },
    "kernelspec": {
      "name": "python3",
      "display_name": "Python 3"
    },
    "language_info": {
      "name": "python"
    },
    "accelerator": "GPU",
    "widgets": {
      "application/vnd.jupyter.widget-state+json": {
        "1da78f52a7bb460d9d87981ae0f89503": {
          "model_module": "@jupyter-widgets/controls",
          "model_name": "HBoxModel",
          "model_module_version": "1.5.0",
          "state": {
            "_dom_classes": [],
            "_model_module": "@jupyter-widgets/controls",
            "_model_module_version": "1.5.0",
            "_model_name": "HBoxModel",
            "_view_count": null,
            "_view_module": "@jupyter-widgets/controls",
            "_view_module_version": "1.5.0",
            "_view_name": "HBoxView",
            "box_style": "",
            "children": [
              "IPY_MODEL_1723f8531b324cf1b4520e6c5553f010",
              "IPY_MODEL_4d02517e0b044448954670e8ae16bc3d",
              "IPY_MODEL_03cc756787fa48ca9e1a165f46493015"
            ],
            "layout": "IPY_MODEL_ee20668e71604e82894c49985899572f"
          }
        },
        "1723f8531b324cf1b4520e6c5553f010": {
          "model_module": "@jupyter-widgets/controls",
          "model_name": "HTMLModel",
          "model_module_version": "1.5.0",
          "state": {
            "_dom_classes": [],
            "_model_module": "@jupyter-widgets/controls",
            "_model_module_version": "1.5.0",
            "_model_name": "HTMLModel",
            "_view_count": null,
            "_view_module": "@jupyter-widgets/controls",
            "_view_module_version": "1.5.0",
            "_view_name": "HTMLView",
            "description": "",
            "description_tooltip": null,
            "layout": "IPY_MODEL_2d3423e2d55944fb80bcb7a302a5b32e",
            "placeholder": "​",
            "style": "IPY_MODEL_b754bc4e1896419f8601877008d7c0c4",
            "value": "Loading checkpoint shards: 100%"
          }
        },
        "4d02517e0b044448954670e8ae16bc3d": {
          "model_module": "@jupyter-widgets/controls",
          "model_name": "FloatProgressModel",
          "model_module_version": "1.5.0",
          "state": {
            "_dom_classes": [],
            "_model_module": "@jupyter-widgets/controls",
            "_model_module_version": "1.5.0",
            "_model_name": "FloatProgressModel",
            "_view_count": null,
            "_view_module": "@jupyter-widgets/controls",
            "_view_module_version": "1.5.0",
            "_view_name": "ProgressView",
            "bar_style": "success",
            "description": "",
            "description_tooltip": null,
            "layout": "IPY_MODEL_d94eb73f47d049ed95243f910a3eace1",
            "max": 4,
            "min": 0,
            "orientation": "horizontal",
            "style": "IPY_MODEL_444a3e9b489b4020a27b9ba31f42fb45",
            "value": 4
          }
        },
        "03cc756787fa48ca9e1a165f46493015": {
          "model_module": "@jupyter-widgets/controls",
          "model_name": "HTMLModel",
          "model_module_version": "1.5.0",
          "state": {
            "_dom_classes": [],
            "_model_module": "@jupyter-widgets/controls",
            "_model_module_version": "1.5.0",
            "_model_name": "HTMLModel",
            "_view_count": null,
            "_view_module": "@jupyter-widgets/controls",
            "_view_module_version": "1.5.0",
            "_view_name": "HTMLView",
            "description": "",
            "description_tooltip": null,
            "layout": "IPY_MODEL_0d110d9a79ec43b786b6c6ee43d9cc5b",
            "placeholder": "​",
            "style": "IPY_MODEL_88ccc3735ec347f4bcfeed78008e66a3",
            "value": " 4/4 [00:01&lt;00:00,  1.42it/s]"
          }
        },
        "ee20668e71604e82894c49985899572f": {
          "model_module": "@jupyter-widgets/base",
          "model_name": "LayoutModel",
          "model_module_version": "1.2.0",
          "state": {
            "_model_module": "@jupyter-widgets/base",
            "_model_module_version": "1.2.0",
            "_model_name": "LayoutModel",
            "_view_count": null,
            "_view_module": "@jupyter-widgets/base",
            "_view_module_version": "1.2.0",
            "_view_name": "LayoutView",
            "align_content": null,
            "align_items": null,
            "align_self": null,
            "border": null,
            "bottom": null,
            "display": null,
            "flex": null,
            "flex_flow": null,
            "grid_area": null,
            "grid_auto_columns": null,
            "grid_auto_flow": null,
            "grid_auto_rows": null,
            "grid_column": null,
            "grid_gap": null,
            "grid_row": null,
            "grid_template_areas": null,
            "grid_template_columns": null,
            "grid_template_rows": null,
            "height": null,
            "justify_content": null,
            "justify_items": null,
            "left": null,
            "margin": null,
            "max_height": null,
            "max_width": null,
            "min_height": null,
            "min_width": null,
            "object_fit": null,
            "object_position": null,
            "order": null,
            "overflow": null,
            "overflow_x": null,
            "overflow_y": null,
            "padding": null,
            "right": null,
            "top": null,
            "visibility": null,
            "width": null
          }
        },
        "2d3423e2d55944fb80bcb7a302a5b32e": {
          "model_module": "@jupyter-widgets/base",
          "model_name": "LayoutModel",
          "model_module_version": "1.2.0",
          "state": {
            "_model_module": "@jupyter-widgets/base",
            "_model_module_version": "1.2.0",
            "_model_name": "LayoutModel",
            "_view_count": null,
            "_view_module": "@jupyter-widgets/base",
            "_view_module_version": "1.2.0",
            "_view_name": "LayoutView",
            "align_content": null,
            "align_items": null,
            "align_self": null,
            "border": null,
            "bottom": null,
            "display": null,
            "flex": null,
            "flex_flow": null,
            "grid_area": null,
            "grid_auto_columns": null,
            "grid_auto_flow": null,
            "grid_auto_rows": null,
            "grid_column": null,
            "grid_gap": null,
            "grid_row": null,
            "grid_template_areas": null,
            "grid_template_columns": null,
            "grid_template_rows": null,
            "height": null,
            "justify_content": null,
            "justify_items": null,
            "left": null,
            "margin": null,
            "max_height": null,
            "max_width": null,
            "min_height": null,
            "min_width": null,
            "object_fit": null,
            "object_position": null,
            "order": null,
            "overflow": null,
            "overflow_x": null,
            "overflow_y": null,
            "padding": null,
            "right": null,
            "top": null,
            "visibility": null,
            "width": null
          }
        },
        "b754bc4e1896419f8601877008d7c0c4": {
          "model_module": "@jupyter-widgets/controls",
          "model_name": "DescriptionStyleModel",
          "model_module_version": "1.5.0",
          "state": {
            "_model_module": "@jupyter-widgets/controls",
            "_model_module_version": "1.5.0",
            "_model_name": "DescriptionStyleModel",
            "_view_count": null,
            "_view_module": "@jupyter-widgets/base",
            "_view_module_version": "1.2.0",
            "_view_name": "StyleView",
            "description_width": ""
          }
        },
        "d94eb73f47d049ed95243f910a3eace1": {
          "model_module": "@jupyter-widgets/base",
          "model_name": "LayoutModel",
          "model_module_version": "1.2.0",
          "state": {
            "_model_module": "@jupyter-widgets/base",
            "_model_module_version": "1.2.0",
            "_model_name": "LayoutModel",
            "_view_count": null,
            "_view_module": "@jupyter-widgets/base",
            "_view_module_version": "1.2.0",
            "_view_name": "LayoutView",
            "align_content": null,
            "align_items": null,
            "align_self": null,
            "border": null,
            "bottom": null,
            "display": null,
            "flex": null,
            "flex_flow": null,
            "grid_area": null,
            "grid_auto_columns": null,
            "grid_auto_flow": null,
            "grid_auto_rows": null,
            "grid_column": null,
            "grid_gap": null,
            "grid_row": null,
            "grid_template_areas": null,
            "grid_template_columns": null,
            "grid_template_rows": null,
            "height": null,
            "justify_content": null,
            "justify_items": null,
            "left": null,
            "margin": null,
            "max_height": null,
            "max_width": null,
            "min_height": null,
            "min_width": null,
            "object_fit": null,
            "object_position": null,
            "order": null,
            "overflow": null,
            "overflow_x": null,
            "overflow_y": null,
            "padding": null,
            "right": null,
            "top": null,
            "visibility": null,
            "width": null
          }
        },
        "444a3e9b489b4020a27b9ba31f42fb45": {
          "model_module": "@jupyter-widgets/controls",
          "model_name": "ProgressStyleModel",
          "model_module_version": "1.5.0",
          "state": {
            "_model_module": "@jupyter-widgets/controls",
            "_model_module_version": "1.5.0",
            "_model_name": "ProgressStyleModel",
            "_view_count": null,
            "_view_module": "@jupyter-widgets/base",
            "_view_module_version": "1.2.0",
            "_view_name": "StyleView",
            "bar_color": null,
            "description_width": ""
          }
        },
        "0d110d9a79ec43b786b6c6ee43d9cc5b": {
          "model_module": "@jupyter-widgets/base",
          "model_name": "LayoutModel",
          "model_module_version": "1.2.0",
          "state": {
            "_model_module": "@jupyter-widgets/base",
            "_model_module_version": "1.2.0",
            "_model_name": "LayoutModel",
            "_view_count": null,
            "_view_module": "@jupyter-widgets/base",
            "_view_module_version": "1.2.0",
            "_view_name": "LayoutView",
            "align_content": null,
            "align_items": null,
            "align_self": null,
            "border": null,
            "bottom": null,
            "display": null,
            "flex": null,
            "flex_flow": null,
            "grid_area": null,
            "grid_auto_columns": null,
            "grid_auto_flow": null,
            "grid_auto_rows": null,
            "grid_column": null,
            "grid_gap": null,
            "grid_row": null,
            "grid_template_areas": null,
            "grid_template_columns": null,
            "grid_template_rows": null,
            "height": null,
            "justify_content": null,
            "justify_items": null,
            "left": null,
            "margin": null,
            "max_height": null,
            "max_width": null,
            "min_height": null,
            "min_width": null,
            "object_fit": null,
            "object_position": null,
            "order": null,
            "overflow": null,
            "overflow_x": null,
            "overflow_y": null,
            "padding": null,
            "right": null,
            "top": null,
            "visibility": null,
            "width": null
          }
        },
        "88ccc3735ec347f4bcfeed78008e66a3": {
          "model_module": "@jupyter-widgets/controls",
          "model_name": "DescriptionStyleModel",
          "model_module_version": "1.5.0",
          "state": {
            "_model_module": "@jupyter-widgets/controls",
            "_model_module_version": "1.5.0",
            "_model_name": "DescriptionStyleModel",
            "_view_count": null,
            "_view_module": "@jupyter-widgets/base",
            "_view_module_version": "1.2.0",
            "_view_name": "StyleView",
            "description_width": ""
          }
        }
      }
    }
  },
  "cells": [
    {
      "cell_type": "markdown",
      "metadata": {
        "id": "view-in-github",
        "colab_type": "text"
      },
      "source": [
        "<a href=\"https://colab.research.google.com/github/andrew128/inference_profiling/blob/main/llama3_8b_instruct_profile.ipynb\" target=\"_parent\"><img src=\"https://colab.research.google.com/assets/colab-badge.svg\" alt=\"Open In Colab\"/></a>"
      ]
    },
    {
      "cell_type": "code",
      "source": [
        "from transformers import pipeline\n",
        "from huggingface_hub import login\n",
        "import torch"
      ],
      "metadata": {
        "id": "0gNMhazg7y1E"
      },
      "execution_count": 1,
      "outputs": []
    },
    {
      "cell_type": "code",
      "execution_count": 6,
      "metadata": {
        "id": "GE8e7Slm7n-9",
        "colab": {
          "base_uri": "https://localhost:8080/",
          "height": 87,
          "referenced_widgets": [
            "1da78f52a7bb460d9d87981ae0f89503",
            "1723f8531b324cf1b4520e6c5553f010",
            "4d02517e0b044448954670e8ae16bc3d",
            "03cc756787fa48ca9e1a165f46493015",
            "ee20668e71604e82894c49985899572f",
            "2d3423e2d55944fb80bcb7a302a5b32e",
            "b754bc4e1896419f8601877008d7c0c4",
            "d94eb73f47d049ed95243f910a3eace1",
            "444a3e9b489b4020a27b9ba31f42fb45",
            "0d110d9a79ec43b786b6c6ee43d9cc5b",
            "88ccc3735ec347f4bcfeed78008e66a3"
          ]
        },
        "outputId": "7ae2cfb2-1f96-4d79-c6d3-5ba330e9abb6"
      },
      "outputs": [
        {
          "output_type": "display_data",
          "data": {
            "text/plain": [
              "Loading checkpoint shards:   0%|          | 0/4 [00:00<?, ?it/s]"
            ],
            "application/vnd.jupyter.widget-view+json": {
              "version_major": 2,
              "version_minor": 0,
              "model_id": "1da78f52a7bb460d9d87981ae0f89503"
            }
          },
          "metadata": {}
        },
        {
          "output_type": "stream",
          "name": "stderr",
          "text": [
            "WARNING:accelerate.big_modeling:Some parameters are on the meta device because they were offloaded to the cpu and disk.\n"
          ]
        }
      ],
      "source": [
        "llama_8b_instruct_pipe = pipeline(\"text-generation\", \"meta-llama/Meta-Llama-3-8B-Instruct\", torch_dtype=torch.bfloat16, device_map=\"auto\")"
      ]
    },
    {
      "cell_type": "code",
      "source": [
        "chat = [\n",
        "    {\"role\": \"system\", \"content\": \"You are a helpful AI assistant\"},\n",
        "    {\"role\": \"user\", \"content\": \"Hey, can you tell me any fun things to do in New York?\"}\n",
        "]\n"
      ],
      "metadata": {
        "id": "XNQxXeIX7vFU"
      },
      "execution_count": 4,
      "outputs": []
    },
    {
      "cell_type": "code",
      "source": [
        "response = llama_8b_instruct_pipe(chat, max_new_tokens=512)\n",
        "print(response[0]['generated_text'][-1]['content'])"
      ],
      "metadata": {
        "id": "KHGDYJ727wSx",
        "colab": {
          "base_uri": "https://localhost:8080/"
        },
        "outputId": "516e6b3d-4ff9-4d9e-e667-8eeee66552dc"
      },
      "execution_count": 5,
      "outputs": [
        {
          "output_type": "stream",
          "name": "stderr",
          "text": [
            "Setting `pad_token_id` to `eos_token_id`:None for open-end generation.\n"
          ]
        },
        {
          "output_type": "stream",
          "name": "stdout",
          "text": [
            "The city that never sleeps! New York City has endless options for entertainment, adventure, and excitement. Here are some fun things to do in the Big Apple:\n",
            "\n",
            "1. **Explore Iconic Landmarks**:\n",
            "\t* Visit the Statue of Liberty and Ellis Island for a taste of American history.\n",
            "\t* Take a stroll across the Brooklyn Bridge for spectacular city views.\n",
            "\t* Marvel at the towering skyscrapers of the Manhattan skyline, including the Empire State Building.\n",
            "2. **Museums and Galleries**:\n",
            "\t* The Met (Metropolitan Museum of Art) is one of the world's largest and most famous museums.\n",
            "\t* The Museum of Modern Art (MoMA) features an impressive collection of modern and contemporary art.\n",
            "\t* The Guggenheim Museum is a must-visit for art enthusiasts, with its unique spiral architecture.\n",
            "3. **Broadway Shows and Live Music**:\n",
            "\t* Catch a Broadway musical or play on the Great White Way.\n",
            "\t* Visit iconic music venues like Madison Square Garden, Radio City Music Hall, or the Blue Note Jazz Club.\n",
            "4. **Food and Markets**:\n",
            "\t* Sample the diverse culinary scene, from classic New York-style pizza to bagels, pastrami sandwiches, and Chinese dim sum.\n",
            "\t* Visit iconic markets like Chelsea Market, Smorgasburg, or the Brooklyn Flea.\n",
            "5. **Outdoor Activities**:\n",
            "\t* Take a walk or bike ride through Central Park, a tranquil oasis in the middle of Manhattan.\n",
            "\t* Visit the High Line, an elevated park built on an old rail line.\n",
            "\t* Explore the many parks and green spaces throughout the city, like Prospect Park in Brooklyn or the Bronx's Van Cortlandt Park.\n",
            "6. **Neighborhoods to Explore**:\n",
            "\t* SoHo (South of Houston) for shopping, art galleries, and trendy restaurants.\n",
            "\t* Greenwich Village for its charming streets, historic brownstones, and lively nightlife.\n",
            "\t* Chinatown and Little Italy for a taste of international cuisine and culture.\n",
            "7. **Sports and Games**:\n",
            "\t* Catch a Yankees game at Yankee Stadium or a Mets game at Citi Field.\n",
            "\t* Visit the iconic Madison Square Garden for a Knicks or Rangers game.\n",
            "\t* Play a round of mini-golf at the Brooklyn Bowl or try indoor skydiving at iFLY Westchester.\n",
            "8. **Seasonal Events**:\n",
            "\t* Attend the Macy's Thanksgiving Day Parade or the Rockefeller Center Christmas Tree lighting.\n",
            "\t* Visit the annual Tribeca Film Festival or the\n"
          ]
        }
      ]
    }
  ]
}